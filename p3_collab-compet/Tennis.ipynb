{
 "cells": [
  {
   "cell_type": "markdown",
   "metadata": {},
   "source": [
    "# Collaboration and Competition\n",
    "\n",
    "---\n",
    "\n",
    "You are welcome to use this coding environment to train your agent for the project.  Follow the instructions below to get started!\n",
    "\n",
    "### 1. Start the Environment\n",
    "\n",
    "Run the next code cell to install a few packages.  This line will take a few minutes to run!"
   ]
  },
  {
   "cell_type": "code",
   "execution_count": 1,
   "metadata": {},
   "outputs": [
    {
     "name": "stdout",
     "output_type": "stream",
     "text": [
      "\u001b[31mtensorflow 1.7.1 has requirement numpy>=1.13.3, but you'll have numpy 1.12.1 which is incompatible.\u001b[0m\r\n",
      "\u001b[31mipython 6.5.0 has requirement prompt-toolkit<2.0.0,>=1.0.15, but you'll have prompt-toolkit 3.0.2 which is incompatible.\u001b[0m\r\n"
     ]
    }
   ],
   "source": [
    "!pip -q install ./python"
   ]
  },
  {
   "cell_type": "markdown",
   "metadata": {},
   "source": [
    "The environment is already saved in the Workspace and can be accessed at the file path provided below. "
   ]
  },
  {
   "cell_type": "code",
   "execution_count": 2,
   "metadata": {},
   "outputs": [
    {
     "name": "stderr",
     "output_type": "stream",
     "text": [
      "INFO:unityagents:\n",
      "'Academy' started successfully!\n",
      "Unity Academy name: Academy\n",
      "        Number of Brains: 1\n",
      "        Number of External Brains : 1\n",
      "        Lesson number : 0\n",
      "        Reset Parameters :\n",
      "\t\t\n",
      "Unity brain name: TennisBrain\n",
      "        Number of Visual Observations (per agent): 0\n",
      "        Vector Observation space type: continuous\n",
      "        Vector Observation space size (per agent): 8\n",
      "        Number of stacked Vector Observation: 3\n",
      "        Vector Action space type: continuous\n",
      "        Vector Action space size (per agent): 2\n",
      "        Vector Action descriptions: , \n"
     ]
    }
   ],
   "source": [
    "from unityagents import UnityEnvironment\n",
    "import numpy as np\n",
    "import torch\n",
    "import random\n",
    "\n",
    "seed = 0\n",
    "torch.manual_seed(seed)\n",
    "random.seed(seed)\n",
    "np.random.seed(seed)\n",
    "\n",
    "env = UnityEnvironment(seed=seed, file_name=\"/data/Tennis_Linux_NoVis/Tennis\")"
   ]
  },
  {
   "cell_type": "markdown",
   "metadata": {},
   "source": [
    "Environments contain **_brains_** which are responsible for deciding the actions of their associated agents. Here we check for the first brain available, and set it as the default brain we will be controlling from Python."
   ]
  },
  {
   "cell_type": "code",
   "execution_count": 3,
   "metadata": {},
   "outputs": [],
   "source": [
    "# get the default brain\n",
    "brain_name = env.brain_names[0]\n",
    "brain = env.brains[brain_name]"
   ]
  },
  {
   "cell_type": "markdown",
   "metadata": {},
   "source": [
    "### 2. Examine the State and Action Spaces\n",
    "\n",
    "Run the code cell below to print some information about the environment."
   ]
  },
  {
   "cell_type": "code",
   "execution_count": 4,
   "metadata": {},
   "outputs": [
    {
     "name": "stdout",
     "output_type": "stream",
     "text": [
      "Number of agents: 2\n",
      "Size of each action: 2\n",
      "There are 2 agents. Each observes a state with length: 24\n",
      "The state for the first agent looks like: [ 0.          0.          0.          0.          0.          0.          0.\n",
      "  0.          0.          0.          0.          0.          0.          0.\n",
      "  0.          0.         -6.65278625 -1.5        -0.          0.\n",
      "  6.83172083  6.         -0.          0.        ]\n"
     ]
    }
   ],
   "source": [
    "# reset the environment\n",
    "env_info = env.reset(train_mode=True)[brain_name]\n",
    "\n",
    "# number of agents \n",
    "num_agents = len(env_info.agents)\n",
    "print('Number of agents:', num_agents)\n",
    "\n",
    "# size of each action\n",
    "action_size = brain.vector_action_space_size\n",
    "print('Size of each action:', action_size)\n",
    "\n",
    "# examine the state space \n",
    "states = env_info.vector_observations\n",
    "state_size = states.shape[1]\n",
    "print('There are {} agents. Each observes a state with length: {}'.format(states.shape[0], state_size))\n",
    "print('The state for the first agent looks like:', states[0])"
   ]
  },
  {
   "cell_type": "markdown",
   "metadata": {},
   "source": [
    "### 3. Take Random Actions in the Environment\n",
    "\n",
    "In the next code cell, you will learn how to use the Python API to control the agent and receive feedback from the environment.\n",
    "\n",
    "Note that **in this coding environment, you will not be able to watch the agents while they are training**, and you should set `train_mode=True` to restart the environment."
   ]
  },
  {
   "cell_type": "code",
   "execution_count": 5,
   "metadata": {},
   "outputs": [
    {
     "name": "stdout",
     "output_type": "stream",
     "text": [
      "Total score (averaged over agents) this episode: -0.004999999888241291\n",
      "Total score (averaged over agents) this episode: -0.004999999888241291\n",
      "Total score (averaged over agents) this episode: -0.004999999888241291\n",
      "Total score (averaged over agents) this episode: -0.004999999888241291\n",
      "Total score (averaged over agents) this episode: -0.004999999888241291\n"
     ]
    }
   ],
   "source": [
    "for i in range(5):                                         # play game for 5 episodes\n",
    "    env_info = env.reset(train_mode=False)[brain_name]     # reset the environment    \n",
    "    states = env_info.vector_observations                  # get the current state (for each agent)\n",
    "    scores = np.zeros(num_agents)                          # initialize the score (for each agent)\n",
    "    while True:\n",
    "        actions = np.random.randn(num_agents, action_size) # select an action (for each agent)\n",
    "        actions = np.clip(actions, -1, 1)                  # all actions between -1 and 1\n",
    "        env_info = env.step(actions)[brain_name]           # send all actions to tne environment\n",
    "        next_states = env_info.vector_observations         # get next state (for each agent)\n",
    "        rewards = env_info.rewards                         # get reward (for each agent)\n",
    "        dones = env_info.local_done                        # see if episode finished\n",
    "        scores += env_info.rewards                         # update the score (for each agent)\n",
    "        states = next_states                               # roll over states to next time step\n",
    "        if np.any(dones):                                  # exit loop if episode finished\n",
    "            break\n",
    "    print('Total score (averaged over agents) this episode: {}'.format(np.mean(scores)))"
   ]
  },
  {
   "cell_type": "markdown",
   "metadata": {},
   "source": [
    "When finished, you can close the environment."
   ]
  },
  {
   "cell_type": "code",
   "execution_count": 6,
   "metadata": {},
   "outputs": [],
   "source": [
    "#env.close()"
   ]
  },
  {
   "cell_type": "markdown",
   "metadata": {},
   "source": [
    "### 4. It's Your Turn!\n",
    "\n",
    "Now it's your turn to train your own agent to solve the environment!  A few **important notes**:\n",
    "- When training the environment, set `train_mode=True`, so that the line for resetting the environment looks like the following:\n",
    "```python\n",
    "env_info = env.reset(train_mode=True)[brain_name]\n",
    "```\n",
    "- To structure your work, you're welcome to work directly in this Jupyter notebook, or you might like to start over with a new file!  You can see the list of files in the workspace by clicking on **_Jupyter_** in the top left corner of the notebook.\n",
    "- In this coding environment, you will not be able to watch the agents while they are training.  However, **_after training the agents_**, you can download the saved model weights to watch the agents on your own machine! "
   ]
  },
  {
   "cell_type": "code",
   "execution_count": 7,
   "metadata": {},
   "outputs": [],
   "source": [
    "from ddpg.maddpg_agent import maddpg_agent\n",
    "maddpg = maddpg_agent()"
   ]
  },
  {
   "cell_type": "code",
   "execution_count": 8,
   "metadata": {},
   "outputs": [],
   "source": [
    "import os\n",
    "\n",
    "def save_weights(dir, num_agents):\n",
    "    for i in range(num_agents):\n",
    "        torch.save(maddpg.agents[i].actor_local.state_dict(),                     \n",
    "              os.path.join(dir, 'checkpoint_actor_{}.pth'.format(i)) )\n",
    "        torch.save(maddpg.agents[i].critic_local.state_dict(), \n",
    "              os.path.join(dir, 'checkpoint_critic_{}.pth'.format(i)) )"
   ]
  },
  {
   "cell_type": "code",
   "execution_count": 9,
   "metadata": {},
   "outputs": [],
   "source": [
    "from collections import deque\n",
    "import time\n",
    "\n",
    "def train(maddpg, env, checkpoint_directory, n_episodes=2000, print_every=50):\n",
    "    \"\"\"Training loop for running the environment using the MADDPG algorithm.\n",
    "    Params:\n",
    "        maddpg: instance of maddpg_agent class\n",
    "        env (UnityEnvironment): instance of Unity environment for training\n",
    "        checkpoint_directory: directory to save model weights\n",
    "        n_episodes (int): number of episodes to train for\n",
    "    \"\"\"\n",
    "    \n",
    "    solved = False\n",
    "    scores_total = []\n",
    "    scores_deque = deque(maxlen=100)\n",
    "    scores_global = []\n",
    "    best_score = 0.0\n",
    "    time_start = time.time()\n",
    "    \n",
    "    # Environment information\n",
    "    brain_name = env.brain_names[0]\n",
    "\n",
    "    # Used for learning period to update the model weights\n",
    "    global_step_number = 0\n",
    "    \n",
    "    for i_episode in range(1, n_episodes+1):\n",
    "        \n",
    "        env_info = env.reset(train_mode=True)[brain_name]\n",
    "        states = env_info.vector_observations\n",
    "                    \n",
    "        scores = np.zeros(num_agents)\n",
    "        maddpg.reset()\n",
    "\n",
    "        while True:\n",
    "            actions = maddpg.act(states)\n",
    "\n",
    "            env_info = env.step(actions)[brain_name]\n",
    "            next_states = env_info.vector_observations\n",
    "            rewards = env_info.rewards\n",
    "            dones = env_info.local_done\n",
    "            \n",
    "            global_step_number += 1\n",
    "            maddpg.step(states, actions, rewards, next_states, dones, global_step_number)\n",
    "\n",
    "            scores += rewards\n",
    "            states = next_states\n",
    "\n",
    "            if np.any(dones):   # exit loop if episode finished\n",
    "                break\n",
    "        \n",
    "        mean_score = np.mean(scores)          # average of 2 agents\n",
    "        scores_total.append(mean_score)\n",
    "        scores_deque.append(mean_score)       # average of 2 agents for 100 episodes\n",
    "        score_average_100 = np.mean(scores_deque) # value = mean on 100 episodes \n",
    "        scores_global.append(score_average_100)  \n",
    "        \n",
    "        if i_episode % print_every == 0:\n",
    "            s = (int)(time.time() - time_start)\n",
    "            print('Episode: {} \\tScore: {:.4f} \\tAverage Score: {:.4f} \\tTime: {:02}:{:02}:{:02} '\\\n",
    "                 .format(i_episode, mean_score,  score_average_100, s//3600, s%3600//60, s%60))\n",
    "\n",
    "        if score_average_100 >= 0.5 and not solved:\n",
    "            print('\\n===>  Environment solved in {:d} episodes \\tAverage Score: {:.2f}\\n'.format(\n",
    "                i_episode, score_average_100))\n",
    "            solved = True\n",
    "            save_weights(checkpoint_directory, num_agents)\n",
    "            best_score = score_average_100\n",
    "        \n",
    "        # save weights if they are better than the ones previously saved\n",
    "        if i_episode % print_every == 0 and score_average_100 > best_score and solved:\n",
    "            best_score = score_average_100\n",
    "            save_weights(checkpoint_directory, num_agents)\n",
    "            s = (int)(time.time() - time_start) \n",
    "            print('\\n==>  Episode {} \\tAverage Score: {:.2f} \\n'.format(i_episode, np.mean(scores_deque)))  \n",
    "        \n",
    "\n",
    "    return scores_total, scores_global"
   ]
  },
  {
   "cell_type": "code",
   "execution_count": 10,
   "metadata": {},
   "outputs": [],
   "source": [
    "import workspace_utils\n",
    "from workspace_utils import active_session"
   ]
  },
  {
   "cell_type": "code",
   "execution_count": 11,
   "metadata": {},
   "outputs": [
    {
     "name": "stdout",
     "output_type": "stream",
     "text": [
      "Episode: 50 \tScore: -0.0050 \tAverage Score: -0.0050 \tTime: 00:00:06 \n",
      "Episode: 100 \tScore: -0.0050 \tAverage Score: -0.0050 \tTime: 00:00:21 \n",
      "Episode: 150 \tScore: -0.0050 \tAverage Score: -0.0050 \tTime: 00:00:37 \n",
      "Episode: 200 \tScore: -0.0050 \tAverage Score: -0.0050 \tTime: 00:00:52 \n",
      "Episode: 250 \tScore: 0.0450 \tAverage Score: 0.0010 \tTime: 00:01:12 \n",
      "Episode: 300 \tScore: -0.0050 \tAverage Score: 0.0045 \tTime: 00:01:29 \n",
      "Episode: 350 \tScore: 0.0450 \tAverage Score: 0.0025 \tTime: 00:01:47 \n",
      "Episode: 400 \tScore: -0.0050 \tAverage Score: 0.0130 \tTime: 00:02:12 \n",
      "Episode: 450 \tScore: -0.0050 \tAverage Score: 0.0210 \tTime: 00:02:36 \n",
      "Episode: 500 \tScore: -0.0050 \tAverage Score: 0.0175 \tTime: 00:02:59 \n",
      "Episode: 550 \tScore: -0.0050 \tAverage Score: 0.0185 \tTime: 00:03:23 \n",
      "Episode: 600 \tScore: 0.0450 \tAverage Score: 0.0195 \tTime: 00:03:47 \n",
      "Episode: 650 \tScore: -0.0050 \tAverage Score: 0.0185 \tTime: 00:04:11 \n",
      "Episode: 700 \tScore: 0.0450 \tAverage Score: 0.0195 \tTime: 00:04:35 \n",
      "Episode: 750 \tScore: -0.0050 \tAverage Score: 0.0125 \tTime: 00:04:54 \n",
      "Episode: 800 \tScore: -0.0050 \tAverage Score: 0.0000 \tTime: 00:05:09 \n",
      "Episode: 850 \tScore: 0.0450 \tAverage Score: 0.0035 \tTime: 00:05:33 \n",
      "Episode: 900 \tScore: 0.0450 \tAverage Score: 0.0140 \tTime: 00:05:57 \n",
      "Episode: 950 \tScore: -0.0050 \tAverage Score: 0.0210 \tTime: 00:06:29 \n",
      "Episode: 1000 \tScore: 0.0450 \tAverage Score: 0.0210 \tTime: 00:06:53 \n",
      "Episode: 1050 \tScore: -0.0050 \tAverage Score: 0.0205 \tTime: 00:07:20 \n",
      "Episode: 1100 \tScore: -0.0050 \tAverage Score: 0.0100 \tTime: 00:07:36 \n",
      "Episode: 1150 \tScore: -0.0050 \tAverage Score: -0.0050 \tTime: 00:07:51 \n",
      "Episode: 1200 \tScore: -0.0050 \tAverage Score: -0.0050 \tTime: 00:08:07 \n",
      "Episode: 1250 \tScore: 0.0450 \tAverage Score: 0.0000 \tTime: 00:08:26 \n",
      "Episode: 1300 \tScore: 0.0450 \tAverage Score: 0.0055 \tTime: 00:08:46 \n",
      "Episode: 1350 \tScore: -0.0050 \tAverage Score: 0.0085 \tTime: 00:09:09 \n",
      "Episode: 1400 \tScore: 0.0450 \tAverage Score: 0.0215 \tTime: 00:09:39 \n",
      "Episode: 1450 \tScore: -0.0050 \tAverage Score: 0.0250 \tTime: 00:10:03 \n",
      "Episode: 1500 \tScore: -0.0050 \tAverage Score: 0.0180 \tTime: 00:10:28 \n",
      "Episode: 1550 \tScore: -0.0050 \tAverage Score: 0.0180 \tTime: 00:10:52 \n",
      "Episode: 1600 \tScore: -0.0050 \tAverage Score: 0.0140 \tTime: 00:11:14 \n",
      "Episode: 1650 \tScore: 0.0950 \tAverage Score: 0.0155 \tTime: 00:11:40 \n",
      "Episode: 1700 \tScore: 0.0450 \tAverage Score: 0.0285 \tTime: 00:12:12 \n",
      "Episode: 1750 \tScore: -0.0050 \tAverage Score: 0.0220 \tTime: 00:12:33 \n",
      "Episode: 1800 \tScore: -0.0050 \tAverage Score: 0.0160 \tTime: 00:13:00 \n",
      "Episode: 1850 \tScore: 0.0450 \tAverage Score: 0.0305 \tTime: 00:13:33 \n",
      "Episode: 1900 \tScore: -0.0050 \tAverage Score: 0.0340 \tTime: 00:14:05 \n",
      "Episode: 1950 \tScore: -0.0050 \tAverage Score: 0.0300 \tTime: 00:14:35 \n",
      "Episode: 2000 \tScore: 0.0450 \tAverage Score: 0.0370 \tTime: 00:15:11 \n",
      "Episode: 2050 \tScore: 0.0450 \tAverage Score: 0.0470 \tTime: 00:15:50 \n",
      "Episode: 2100 \tScore: 0.0950 \tAverage Score: 0.0460 \tTime: 00:16:25 \n",
      "Episode: 2150 \tScore: 0.0950 \tAverage Score: 0.0635 \tTime: 00:17:19 \n",
      "Episode: 2200 \tScore: 0.0450 \tAverage Score: 0.0760 \tTime: 00:18:04 \n",
      "Episode: 2250 \tScore: 0.0950 \tAverage Score: 0.0700 \tTime: 00:18:50 \n",
      "Episode: 2300 \tScore: 0.0450 \tAverage Score: 0.0675 \tTime: 00:19:33 \n",
      "Episode: 2350 \tScore: 0.0450 \tAverage Score: 0.0645 \tTime: 00:20:18 \n",
      "Episode: 2400 \tScore: -0.0050 \tAverage Score: 0.0715 \tTime: 00:21:09 \n",
      "Episode: 2450 \tScore: 0.0950 \tAverage Score: 0.0745 \tTime: 00:21:57 \n",
      "Episode: 2500 \tScore: 0.0450 \tAverage Score: 0.0840 \tTime: 00:22:58 \n",
      "Episode: 2550 \tScore: 0.2450 \tAverage Score: 0.0970 \tTime: 00:23:59 \n",
      "Episode: 2600 \tScore: 0.3450 \tAverage Score: 0.1450 \tTime: 00:25:42 \n",
      "Episode: 2650 \tScore: 0.0950 \tAverage Score: 0.2064 \tTime: 00:27:38 \n",
      "Episode: 2700 \tScore: 0.0950 \tAverage Score: 0.2699 \tTime: 00:30:19 \n",
      "Episode: 2750 \tScore: 1.1450 \tAverage Score: 0.4962 \tTime: 00:35:33 \n",
      "\n",
      "===>  Environment solved in 2751 episodes \tAverage Score: 0.50\n",
      "\n",
      "Episode: 2800 \tScore: 0.0450 \tAverage Score: 0.5402 \tTime: 00:38:55 \n",
      "\n",
      "==>  Episode 2800 \tAverage Score: 0.54 \n",
      "\n",
      "Episode: 2850 \tScore: 0.0950 \tAverage Score: 0.2771 \tTime: 00:40:18 \n",
      "Episode: 2900 \tScore: 1.3450 \tAverage Score: 0.4251 \tTime: 00:45:49 \n",
      "Episode: 2950 \tScore: 0.1450 \tAverage Score: 0.5376 \tTime: 00:48:51 \n",
      "Episode: 3000 \tScore: 0.1450 \tAverage Score: 0.3435 \tTime: 00:51:30 \n",
      "Episode: 3050 \tScore: 0.0450 \tAverage Score: 0.5522 \tTime: 00:57:42 \n",
      "\n",
      "==>  Episode 3050 \tAverage Score: 0.55 \n",
      "\n",
      "Episode: 3100 \tScore: 1.1450 \tAverage Score: 0.7518 \tTime: 01:03:27 \n",
      "\n",
      "==>  Episode 3100 \tAverage Score: 0.75 \n",
      "\n",
      "Episode: 3150 \tScore: 2.2950 \tAverage Score: 0.6296 \tTime: 01:07:59 \n",
      "Episode: 3200 \tScore: 0.0450 \tAverage Score: 0.7696 \tTime: 01:16:01 \n",
      "\n",
      "==>  Episode 3200 \tAverage Score: 0.77 \n",
      "\n",
      "Episode: 3250 \tScore: 2.6500 \tAverage Score: 1.2396 \tTime: 01:28:04 \n",
      "\n",
      "==>  Episode 3250 \tAverage Score: 1.24 \n",
      "\n",
      "Episode: 3300 \tScore: 2.6000 \tAverage Score: 1.6116 \tTime: 01:42:29 \n",
      "\n",
      "==>  Episode 3300 \tAverage Score: 1.61 \n",
      "\n",
      "Episode: 3350 \tScore: 2.6000 \tAverage Score: 1.9160 \tTime: 02:00:40 \n",
      "\n",
      "==>  Episode 3350 \tAverage Score: 1.92 \n",
      "\n",
      "Episode: 3400 \tScore: 2.6500 \tAverage Score: 1.9078 \tTime: 02:16:27 \n"
     ]
    }
   ],
   "source": [
    "with active_session():\n",
    "    scores_total, scores_global = train(maddpg, env, checkpoint_directory='saved_weights', n_episodes=3400)"
   ]
  },
  {
   "cell_type": "code",
   "execution_count": 15,
   "metadata": {},
   "outputs": [
    {
     "data": {
      "image/png": "[encoded data removed]",
      "text/plain": [
       "<matplotlib.figure.Figure at 0x7f52a5f42c18>"
      ]
     },
     "metadata": {
      "needs_background": "light"
     },
     "output_type": "display_data"
    }
   ],
   "source": [
    "import matplotlib.pyplot as plt\n",
    "import numpy as np\n",
    "%matplotlib inline\n",
    "\n",
    "fig = plt.figure(figsize=[12, 8])\n",
    "ax = fig.add_subplot(111)\n",
    "\n",
    "plt.plot(np.arange(1, len(scores_total) + 1), scores_total, label=\"Reward per Episode\")\n",
    "plt.plot(np.arange(1, len(scores_global) + 1), scores_global, label=\"Mean of 100 episodes\")\n",
    "plt.axhline(y=0.5, color=\"r\", label=\"Target Score\") # default score at which the environment solved\n",
    "\n",
    "plt.legend() \n",
    "plt.title(\"Training Results Plot\")\n",
    "plt.ylabel(\"Score\")\n",
    "plt.xlabel(\"Episode Number\")\n",
    "plt.show()\n",
    "\n",
    "fig.tight_layout()\n",
    "fig.savefig(\"training_plot.png\")"
   ]
  },
  {
   "cell_type": "code",
   "execution_count": 16,
   "metadata": {},
   "outputs": [],
   "source": [
    "env.close()"
   ]
  }
 ],
 "metadata": {
  "kernelspec": {
   "display_name": "Python 3",
   "language": "python",
   "name": "python3"
  },
  "language_info": {
   "codemirror_mode": {
    "name": "ipython",
    "version": 3
   },
   "file_extension": ".py",
   "mimetype": "text/x-python",
   "name": "python",
   "nbconvert_exporter": "python",
   "pygments_lexer": "ipython3",
   "version": "3.6.3"
  }
 },
 "nbformat": 4,
 "nbformat_minor": 2
}
