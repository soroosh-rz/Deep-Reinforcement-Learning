{
 "cells": [
  {
   "cell_type": "code",
   "execution_count": 1,
   "metadata": {},
   "outputs": [
    {
     "name": "stdout",
     "output_type": "stream",
     "text": [
      "\u001b[31mtensorflow 1.7.1 has requirement numpy>=1.13.3, but you'll have numpy 1.12.1 which is incompatible.\u001b[0m\r\n",
      "\u001b[31mipython 6.5.0 has requirement prompt-toolkit<2.0.0,>=1.0.15, but you'll have prompt-toolkit 3.0.2 which is incompatible.\u001b[0m\r\n"
     ]
    }
   ],
   "source": [
    "!pip -q install ./python"
   ]
  },
  {
   "cell_type": "code",
   "execution_count": 2,
   "metadata": {},
   "outputs": [],
   "source": [
    "from unityagents import UnityEnvironment\n",
    "import numpy as np\n",
    "import torch\n",
    "import os"
   ]
  },
  {
   "cell_type": "code",
   "execution_count": 3,
   "metadata": {},
   "outputs": [
    {
     "name": "stderr",
     "output_type": "stream",
     "text": [
      "INFO:unityagents:\n",
      "'Academy' started successfully!\n",
      "Unity Academy name: Academy\n",
      "        Number of Brains: 1\n",
      "        Number of External Brains : 1\n",
      "        Lesson number : 0\n",
      "        Reset Parameters :\n",
      "\t\t\n",
      "Unity brain name: TennisBrain\n",
      "        Number of Visual Observations (per agent): 0\n",
      "        Vector Observation space type: continuous\n",
      "        Vector Observation space size (per agent): 8\n",
      "        Number of stacked Vector Observation: 3\n",
      "        Vector Action space type: continuous\n",
      "        Vector Action space size (per agent): 2\n",
      "        Vector Action descriptions: , \n"
     ]
    }
   ],
   "source": [
    "env = UnityEnvironment(file_name=\"/data/Tennis_Linux_NoVis/Tennis\")"
   ]
  },
  {
   "cell_type": "code",
   "execution_count": 4,
   "metadata": {},
   "outputs": [],
   "source": [
    "# get the default brain\n",
    "brain_name = env.brain_names[0]\n",
    "brain = env.brains[brain_name]"
   ]
  },
  {
   "cell_type": "code",
   "execution_count": 5,
   "metadata": {},
   "outputs": [
    {
     "name": "stdout",
     "output_type": "stream",
     "text": [
      "Number of agents: 2\n",
      "Size of each action: 2\n"
     ]
    }
   ],
   "source": [
    "env_info = env.reset(train_mode=False)[brain_name]\n",
    "\n",
    "# number of agents\n",
    "num_agents = len(env_info.agents)                      \n",
    "print('Number of agents:', num_agents)\n",
    "\n",
    "# size of each action\n",
    "action_size = brain.vector_action_space_size\n",
    "print('Size of each action:', action_size)"
   ]
  },
  {
   "cell_type": "code",
   "execution_count": 6,
   "metadata": {},
   "outputs": [],
   "source": [
    "from ddpg.maddpg_agent import maddpg_agent\n",
    "\n",
    "maddpg = maddpg_agent()"
   ]
  },
  {
   "cell_type": "code",
   "execution_count": 7,
   "metadata": {},
   "outputs": [],
   "source": [
    "# Loading the trained weights\n",
    "def load(dir):    \n",
    "        for i in range(num_agents):\n",
    "            maddpg.agents[i].actor_local.load_state_dict(\n",
    "                torch.load(os.path.join(dir, 'checkpoint_actor_{}.pth'.format(i))) )\n",
    "            maddpg.agents[i].critic_local.load_state_dict(\n",
    "                torch.load(os.path.join(dir, 'checkpoint_critic_{}.pth'.format(i))) )"
   ]
  },
  {
   "cell_type": "code",
   "execution_count": 8,
   "metadata": {},
   "outputs": [],
   "source": [
    "# Doing inference and playing the game\n",
    "\n",
    "def inference_play(maddpg, env, num_games=3):\n",
    "    \"\"\"Tests the training results by having both agents play a match\n",
    "        maddpg (MADDPG): instance of MADDPG wrapper class\n",
    "        env (UnityEnvironment): instance of Unity environment for testing\n",
    "        num_games (int): number of games to be played\n",
    "    \"\"\"\n",
    "    \n",
    "    print(\"Agent 0: Red racket\")\n",
    "    print(\"Agent 1: Blue racket\\n\")\n",
    "\n",
    "    game_scores = [0 for _ in range(num_agents)]\n",
    "\n",
    "    # Environment information\n",
    "    brain_name = env.brain_names[0]\n",
    "\n",
    "    for i_episode in range(1, num_games+1):\n",
    "        env_info = env.reset(train_mode=False)[brain_name]   \n",
    "        states = env_info.vector_observations\n",
    "        scores = np.zeros(num_agents)\n",
    "\n",
    "        t_step = 0\n",
    "        \n",
    "        while True:\n",
    "            actions = maddpg.act(states)\n",
    "\n",
    "            env_info = env.step(actions)[brain_name]\n",
    "            next_states = env_info.vector_observations\n",
    "            rewards = env_info.rewards\n",
    "            scores += rewards\n",
    "            dones = env_info.local_done\n",
    "            t_step += 1\n",
    "\n",
    "            if np.any(dones):\n",
    "                winner = np.argmax(scores)\n",
    "                game_scores[winner] += 1\n",
    "                if (t_step > 0):\n",
    "                    t_step -= 1\n",
    "                print('Game: {}, partial score: {},  Score agent #0: {:.2f}, Score agent #1: {:.2f}, # of timesteps: {} '.\n",
    "                       format(i_episode, game_scores, scores[0], scores[1], t_step))\n",
    "                break\n",
    "\n",
    "            states = next_states\n",
    "\n",
    "    print(\"\\nWinner is Agent {}\".format(np.argmax(game_scores)))"
   ]
  },
  {
   "cell_type": "code",
   "execution_count": 9,
   "metadata": {},
   "outputs": [
    {
     "name": "stdout",
     "output_type": "stream",
     "text": [
      "Agent 0: Red racket\n",
      "Agent 1: Blue racket\n",
      "\n",
      "Game: 1, partial score: [1, 0],  Score agent #0: 2.60, Score agent #1: 2.60, # of timesteps: 1000 \n",
      "Game: 2, partial score: [2, 0],  Score agent #0: 2.10, Score agent #1: 2.09, # of timesteps: 789 \n",
      "Game: 3, partial score: [3, 0],  Score agent #0: 2.60, Score agent #1: 2.60, # of timesteps: 1000 \n",
      "\n",
      "Winner is Agent 0\n"
     ]
    }
   ],
   "source": [
    "# Playing 3 games with the trained networks\n",
    "load(\"saved_weights\")\n",
    "inference_play(maddpg, env)"
   ]
  },
  {
   "cell_type": "code",
   "execution_count": 10,
   "metadata": {},
   "outputs": [],
   "source": [
    "env.close()"
   ]
  }
 ],
 "metadata": {
  "kernelspec": {
   "display_name": "Python 3",
   "language": "python",
   "name": "python3"
  },
  "language_info": {
   "codemirror_mode": {
    "name": "ipython",
    "version": 3
   },
   "file_extension": ".py",
   "mimetype": "text/x-python",
   "name": "python",
   "nbconvert_exporter": "python",
   "pygments_lexer": "ipython3",
   "version": "3.6.3"
  }
 },
 "nbformat": 4,
 "nbformat_minor": 2
}
